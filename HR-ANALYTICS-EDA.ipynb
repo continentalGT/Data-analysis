{
 "cells": [
  {
   "cell_type": "markdown",
   "id": "cff82bdc",
   "metadata": {},
   "source": [
    "# HR-ANALYTICS-EDA"
   ]
  },
  {
   "cell_type": "markdown",
   "id": "ad26fc48",
   "metadata": {},
   "source": [
    "# 1.PROBLEM STATEMENT"
   ]
  },
  {
   "cell_type": "markdown",
   "id": "5c8679d1",
   "metadata": {},
   "source": [
    "A company is facing a problem of attrition and HR department wants to get insights from the data collected by them."
   ]
  },
  {
   "cell_type": "markdown",
   "id": "d0a11161",
   "metadata": {},
   "source": [
    "# 2.IMPORTING LIBRARIES AND DATASET"
   ]
  },
  {
   "cell_type": "code",
   "execution_count": 1,
   "id": "5d6c329c",
   "metadata": {},
   "outputs": [],
   "source": [
    "import pandas as pd\n",
    "import numpy as np\n",
    "import matplotlib.pyplot as plt\n",
    "import seaborn as sns"
   ]
  },
  {
   "cell_type": "code",
   "execution_count": 2,
   "id": "84e5fb51",
   "metadata": {},
   "outputs": [
    {
     "data": {
      "text/html": [
       "<div>\n",
       "<style scoped>\n",
       "    .dataframe tbody tr th:only-of-type {\n",
       "        vertical-align: middle;\n",
       "    }\n",
       "\n",
       "    .dataframe tbody tr th {\n",
       "        vertical-align: top;\n",
       "    }\n",
       "\n",
       "    .dataframe thead th {\n",
       "        text-align: right;\n",
       "    }\n",
       "</style>\n",
       "<table border=\"1\" class=\"dataframe\">\n",
       "  <thead>\n",
       "    <tr style=\"text-align: right;\">\n",
       "      <th></th>\n",
       "      <th>satisfactoryLevel</th>\n",
       "      <th>lastEvaluation</th>\n",
       "      <th>numberOfProjects</th>\n",
       "      <th>avgMonthlyHours</th>\n",
       "      <th>timeSpent.company</th>\n",
       "      <th>workAccident</th>\n",
       "      <th>left</th>\n",
       "      <th>promotionInLast5years</th>\n",
       "      <th>dept</th>\n",
       "      <th>salary</th>\n",
       "    </tr>\n",
       "  </thead>\n",
       "  <tbody>\n",
       "    <tr>\n",
       "      <th>0</th>\n",
       "      <td>0.38</td>\n",
       "      <td>0.53</td>\n",
       "      <td>2</td>\n",
       "      <td>157</td>\n",
       "      <td>3</td>\n",
       "      <td>0</td>\n",
       "      <td>1</td>\n",
       "      <td>0</td>\n",
       "      <td>sales</td>\n",
       "      <td>low</td>\n",
       "    </tr>\n",
       "    <tr>\n",
       "      <th>1</th>\n",
       "      <td>0.80</td>\n",
       "      <td>0.86</td>\n",
       "      <td>5</td>\n",
       "      <td>262</td>\n",
       "      <td>6</td>\n",
       "      <td>0</td>\n",
       "      <td>1</td>\n",
       "      <td>0</td>\n",
       "      <td>sales</td>\n",
       "      <td>medium</td>\n",
       "    </tr>\n",
       "    <tr>\n",
       "      <th>2</th>\n",
       "      <td>0.11</td>\n",
       "      <td>0.88</td>\n",
       "      <td>7</td>\n",
       "      <td>272</td>\n",
       "      <td>4</td>\n",
       "      <td>0</td>\n",
       "      <td>1</td>\n",
       "      <td>0</td>\n",
       "      <td>sales</td>\n",
       "      <td>medium</td>\n",
       "    </tr>\n",
       "    <tr>\n",
       "      <th>3</th>\n",
       "      <td>0.37</td>\n",
       "      <td>0.52</td>\n",
       "      <td>2</td>\n",
       "      <td>159</td>\n",
       "      <td>3</td>\n",
       "      <td>0</td>\n",
       "      <td>1</td>\n",
       "      <td>0</td>\n",
       "      <td>sales</td>\n",
       "      <td>low</td>\n",
       "    </tr>\n",
       "    <tr>\n",
       "      <th>4</th>\n",
       "      <td>0.41</td>\n",
       "      <td>0.50</td>\n",
       "      <td>2</td>\n",
       "      <td>153</td>\n",
       "      <td>3</td>\n",
       "      <td>0</td>\n",
       "      <td>1</td>\n",
       "      <td>0</td>\n",
       "      <td>sales</td>\n",
       "      <td>low</td>\n",
       "    </tr>\n",
       "  </tbody>\n",
       "</table>\n",
       "</div>"
      ],
      "text/plain": [
       "   satisfactoryLevel  lastEvaluation  numberOfProjects  avgMonthlyHours  \\\n",
       "0               0.38            0.53                 2              157   \n",
       "1               0.80            0.86                 5              262   \n",
       "2               0.11            0.88                 7              272   \n",
       "3               0.37            0.52                 2              159   \n",
       "4               0.41            0.50                 2              153   \n",
       "\n",
       "   timeSpent.company  workAccident  left  promotionInLast5years   dept  salary  \n",
       "0                  3             0     1                      0  sales     low  \n",
       "1                  6             0     1                      0  sales  medium  \n",
       "2                  4             0     1                      0  sales  medium  \n",
       "3                  3             0     1                      0  sales     low  \n",
       "4                  3             0     1                      0  sales     low  "
      ]
     },
     "execution_count": 2,
     "metadata": {},
     "output_type": "execute_result"
    }
   ],
   "source": [
    "data=pd.read_csv(r'C:\\Users\\esvit\\Downloads\\Downloads\\data science\\intellipat\\data\\employees.csv')\n",
    "data.head()"
   ]
  },
  {
   "cell_type": "code",
   "execution_count": 3,
   "id": "91f465ac",
   "metadata": {},
   "outputs": [
    {
     "data": {
      "text/plain": [
       "(11991, 10)"
      ]
     },
     "execution_count": 3,
     "metadata": {},
     "output_type": "execute_result"
    }
   ],
   "source": [
    "data.shape"
   ]
  },
  {
   "cell_type": "code",
   "execution_count": 4,
   "id": "d09a14bc",
   "metadata": {},
   "outputs": [
    {
     "data": {
      "text/plain": [
       "Index(['satisfactoryLevel', 'lastEvaluation', 'numberOfProjects',\n",
       "       'avgMonthlyHours', 'timeSpent.company', 'workAccident', 'left',\n",
       "       'promotionInLast5years', 'dept', 'salary'],\n",
       "      dtype='object')"
      ]
     },
     "execution_count": 4,
     "metadata": {},
     "output_type": "execute_result"
    }
   ],
   "source": [
    "data.columns"
   ]
  },
  {
   "cell_type": "markdown",
   "id": "d819a186",
   "metadata": {},
   "source": [
    "# EDA"
   ]
  },
  {
   "cell_type": "code",
   "execution_count": 4,
   "id": "9912e02d",
   "metadata": {},
   "outputs": [
    {
     "data": {
      "text/plain": [
       "0"
      ]
     },
     "execution_count": 4,
     "metadata": {},
     "output_type": "execute_result"
    }
   ],
   "source": [
    "#checking duplicates\n",
    "data.duplicated().sum()"
   ]
  },
  {
   "cell_type": "code",
   "execution_count": 6,
   "id": "b6508266",
   "metadata": {},
   "outputs": [
    {
     "data": {
      "text/plain": [
       "satisfactoryLevel        0\n",
       "lastEvaluation           0\n",
       "numberOfProjects         0\n",
       "avgMonthlyHours          0\n",
       "timeSpent.company        0\n",
       "workAccident             0\n",
       "left                     0\n",
       "promotionInLast5years    0\n",
       "dept                     0\n",
       "salary                   0\n",
       "dtype: int64"
      ]
     },
     "execution_count": 6,
     "metadata": {},
     "output_type": "execute_result"
    }
   ],
   "source": [
    "#checking null\n",
    "data.isnull().sum()"
   ]
  },
  {
   "cell_type": "code",
   "execution_count": 8,
   "id": "d4f72b6d",
   "metadata": {},
   "outputs": [
    {
     "name": "stdout",
     "output_type": "stream",
     "text": [
      "<class 'pandas.core.frame.DataFrame'>\n",
      "RangeIndex: 11991 entries, 0 to 11990\n",
      "Data columns (total 10 columns):\n",
      " #   Column                 Non-Null Count  Dtype  \n",
      "---  ------                 --------------  -----  \n",
      " 0   satisfactoryLevel      11991 non-null  float64\n",
      " 1   lastEvaluation         11991 non-null  float64\n",
      " 2   numberOfProjects       11991 non-null  int64  \n",
      " 3   avgMonthlyHours        11991 non-null  int64  \n",
      " 4   timeSpent.company      11991 non-null  int64  \n",
      " 5   workAccident           11991 non-null  int64  \n",
      " 6   left                   11991 non-null  int64  \n",
      " 7   promotionInLast5years  11991 non-null  int64  \n",
      " 8   dept                   11991 non-null  object \n",
      " 9   salary                 11991 non-null  object \n",
      "dtypes: float64(2), int64(6), object(2)\n",
      "memory usage: 936.9+ KB\n"
     ]
    }
   ],
   "source": [
    "#checking format\n",
    "data.info()"
   ]
  },
  {
   "cell_type": "markdown",
   "id": "d46f13a0",
   "metadata": {},
   "source": [
    "# Visualisation\n"
   ]
  },
  {
   "cell_type": "code",
   "execution_count": 11,
   "id": "5efc0764",
   "metadata": {},
   "outputs": [
    {
     "data": {
      "text/plain": [
       "(['satisfactoryLevel',\n",
       "  'lastEvaluation',\n",
       "  'numberOfProjects',\n",
       "  'avgMonthlyHours',\n",
       "  'timeSpent.company',\n",
       "  'workAccident',\n",
       "  'left',\n",
       "  'promotionInLast5years',\n",
       "  'dept',\n",
       "  'salary'],\n",
       " list)"
      ]
     },
     "execution_count": 11,
     "metadata": {},
     "output_type": "execute_result"
    }
   ],
   "source": [
    "feature=list(data.columns)\n",
    "feature,type(feature)\n"
   ]
  },
  {
   "cell_type": "code",
   "execution_count": 13,
   "id": "6136def4",
   "metadata": {},
   "outputs": [
    {
     "data": {
      "text/html": [
       "<div>\n",
       "<style scoped>\n",
       "    .dataframe tbody tr th:only-of-type {\n",
       "        vertical-align: middle;\n",
       "    }\n",
       "\n",
       "    .dataframe tbody tr th {\n",
       "        vertical-align: top;\n",
       "    }\n",
       "\n",
       "    .dataframe thead th {\n",
       "        text-align: right;\n",
       "    }\n",
       "</style>\n",
       "<table border=\"1\" class=\"dataframe\">\n",
       "  <thead>\n",
       "    <tr style=\"text-align: right;\">\n",
       "      <th></th>\n",
       "      <th>satisfactoryLevel</th>\n",
       "      <th>lastEvaluation</th>\n",
       "      <th>numberOfProjects</th>\n",
       "      <th>avgMonthlyHours</th>\n",
       "      <th>timeSpent.company</th>\n",
       "      <th>workAccident</th>\n",
       "      <th>left</th>\n",
       "      <th>promotionInLast5years</th>\n",
       "      <th>dept</th>\n",
       "      <th>salary</th>\n",
       "    </tr>\n",
       "  </thead>\n",
       "  <tbody>\n",
       "    <tr>\n",
       "      <th>6834</th>\n",
       "      <td>0.78</td>\n",
       "      <td>0.95</td>\n",
       "      <td>3</td>\n",
       "      <td>155</td>\n",
       "      <td>3</td>\n",
       "      <td>1</td>\n",
       "      <td>0</td>\n",
       "      <td>0</td>\n",
       "      <td>support</td>\n",
       "      <td>medium</td>\n",
       "    </tr>\n",
       "    <tr>\n",
       "      <th>2770</th>\n",
       "      <td>0.72</td>\n",
       "      <td>0.81</td>\n",
       "      <td>4</td>\n",
       "      <td>134</td>\n",
       "      <td>2</td>\n",
       "      <td>0</td>\n",
       "      <td>0</td>\n",
       "      <td>0</td>\n",
       "      <td>support</td>\n",
       "      <td>low</td>\n",
       "    </tr>\n",
       "    <tr>\n",
       "      <th>4400</th>\n",
       "      <td>0.91</td>\n",
       "      <td>0.78</td>\n",
       "      <td>4</td>\n",
       "      <td>153</td>\n",
       "      <td>3</td>\n",
       "      <td>0</td>\n",
       "      <td>0</td>\n",
       "      <td>0</td>\n",
       "      <td>RandD</td>\n",
       "      <td>medium</td>\n",
       "    </tr>\n",
       "    <tr>\n",
       "      <th>10319</th>\n",
       "      <td>0.64</td>\n",
       "      <td>0.53</td>\n",
       "      <td>3</td>\n",
       "      <td>216</td>\n",
       "      <td>3</td>\n",
       "      <td>0</td>\n",
       "      <td>0</td>\n",
       "      <td>0</td>\n",
       "      <td>accounting</td>\n",
       "      <td>high</td>\n",
       "    </tr>\n",
       "    <tr>\n",
       "      <th>9187</th>\n",
       "      <td>0.92</td>\n",
       "      <td>0.98</td>\n",
       "      <td>4</td>\n",
       "      <td>161</td>\n",
       "      <td>3</td>\n",
       "      <td>0</td>\n",
       "      <td>0</td>\n",
       "      <td>0</td>\n",
       "      <td>technical</td>\n",
       "      <td>medium</td>\n",
       "    </tr>\n",
       "  </tbody>\n",
       "</table>\n",
       "</div>"
      ],
      "text/plain": [
       "       satisfactoryLevel  lastEvaluation  numberOfProjects  avgMonthlyHours  \\\n",
       "6834                0.78            0.95                 3              155   \n",
       "2770                0.72            0.81                 4              134   \n",
       "4400                0.91            0.78                 4              153   \n",
       "10319               0.64            0.53                 3              216   \n",
       "9187                0.92            0.98                 4              161   \n",
       "\n",
       "       timeSpent.company  workAccident  left  promotionInLast5years  \\\n",
       "6834                   3             1     0                      0   \n",
       "2770                   2             0     0                      0   \n",
       "4400                   3             0     0                      0   \n",
       "10319                  3             0     0                      0   \n",
       "9187                   3             0     0                      0   \n",
       "\n",
       "             dept  salary  \n",
       "6834      support  medium  \n",
       "2770      support     low  \n",
       "4400        RandD  medium  \n",
       "10319  accounting    high  \n",
       "9187    technical  medium  "
      ]
     },
     "execution_count": 13,
     "metadata": {},
     "output_type": "execute_result"
    }
   ],
   "source": [
    "data.sample(5)"
   ]
  },
  {
   "cell_type": "code",
   "execution_count": 16,
   "id": "95c7425e",
   "metadata": {},
   "outputs": [],
   "source": [
    "import warnings\n",
    "warnings.filterwarnings('ignore')"
   ]
  },
  {
   "cell_type": "code",
   "execution_count": 28,
   "id": "f748ae4d",
   "metadata": {},
   "outputs": [
    {
     "data": {
      "text/plain": [
       "<AxesSubplot:xlabel='timeSpent.company', ylabel='count'>"
      ]
     },
     "execution_count": 28,
     "metadata": {},
     "output_type": "execute_result"
    },
    {
     "data": {
      "image/png": "[encoded data removed]",
      "text/plain": [
       "<Figure size 1080x720 with 6 Axes>"
      ]
     },
     "metadata": {
      "needs_background": "light"
     },
     "output_type": "display_data"
    }
   ],
   "source": [
    "fig=plt.subplots(3,2,figsize=(15,10))\n",
    "plt.subplot(321)\n",
    "sns.countplot(data['numberOfProjects'],hue=data['left'])\n",
    "\n",
    "plt.subplot(322)\n",
    "sns.countplot(data['workAccident'],hue=data['left'])\n",
    "\n",
    "plt.subplot(323)\n",
    "sns.countplot(data['promotionInLast5years'],hue=data['left'])\n",
    "\n",
    "\n",
    "plt.subplot(324)\n",
    "sns.countplot(y=data['dept'],hue=data['left'])\n",
    "\n",
    "plt.subplot(325)\n",
    "sns.countplot(data['salary'],hue=data['left'])\n",
    "\n",
    "plt.subplot(326)\n",
    "sns.countplot(data['timeSpent.company'],hue=data['left'])"
   ]
  },
  {
   "cell_type": "markdown",
   "id": "8d5fce7c",
   "metadata": {},
   "source": [
    "People working on 2 projects left are highest"
   ]
  },
  {
   "cell_type": "markdown",
   "id": "6fef6db5",
   "metadata": {},
   "source": [
    "People met with work accidents leaving company are higher than the other."
   ]
  },
  {
   "cell_type": "markdown",
   "id": "32d36a14",
   "metadata": {},
   "source": [
    "SALES,tECHNICAL AND SUPPORT DEPARTMENT SAW VERY HIGH ATTRITION"
   ]
  },
  {
   "cell_type": "markdown",
   "id": "7040b018",
   "metadata": {},
   "source": [
    "Time spent between 3 to 5 years saw higher attrition"
   ]
  },
  {
   "cell_type": "markdown",
   "id": "ce931a25",
   "metadata": {},
   "source": [
    "People having low and medium salary left company higher"
   ]
  },
  {
   "cell_type": "code",
   "execution_count": 42,
   "id": "910b7757",
   "metadata": {},
   "outputs": [
    {
     "data": {
      "text/plain": [
       "<AxesSubplot:xlabel='count', ylabel='dept'>"
      ]
     },
     "execution_count": 42,
     "metadata": {},
     "output_type": "execute_result"
    },
    {
     "data": {
      "image/png": "[encoded data removed]",
      "text/plain": [
       "<Figure size 720x504 with 1 Axes>"
      ]
     },
     "metadata": {
      "needs_background": "light"
     },
     "output_type": "display_data"
    }
   ],
   "source": [
    "plt.figure(figsize=(10,7))\n",
    "sns.countplot(y=data['dept'],hue=data['salary'])"
   ]
  },
  {
   "cell_type": "markdown",
   "id": "25eba578",
   "metadata": {},
   "source": [
    "Few Obeservation from above graph:-"
   ]
  },
  {
   "cell_type": "markdown",
   "id": "58a3a23e",
   "metadata": {},
   "source": [
    "employees from  Sales ,tchnical and support are igher in number in comparison to other departments in term of Medium and Low salary.Also From last observation it is seen employee from these department and with these ranges of salary left higher.\n",
    "This graph proven the last observation"
   ]
  },
  {
   "cell_type": "code",
   "execution_count": 9,
   "id": "e93017a6",
   "metadata": {},
   "outputs": [
    {
     "data": {
      "text/plain": [
       "Index(['satisfactoryLevel', 'lastEvaluation', 'numberOfProjects',\n",
       "       'avgMonthlyHours', 'timeSpent.company', 'workAccident', 'left',\n",
       "       'promotionInLast5years', 'dept', 'salary'],\n",
       "      dtype='object')"
      ]
     },
     "execution_count": 9,
     "metadata": {},
     "output_type": "execute_result"
    }
   ],
   "source": [
    "data.columns\n"
   ]
  },
  {
   "cell_type": "code",
   "execution_count": 11,
   "id": "a5362b15",
   "metadata": {},
   "outputs": [
    {
     "data": {
      "text/plain": [
       "<AxesSubplot:xlabel='count', ylabel='dept'>"
      ]
     },
     "execution_count": 11,
     "metadata": {},
     "output_type": "execute_result"
    },
    {
     "data": {
      "image/png": "[encoded data removed]",
      "text/plain": [
       "<Figure size 432x288 with 1 Axes>"
      ]
     },
     "metadata": {
      "needs_background": "light"
     },
     "output_type": "display_data"
    }
   ],
   "source": [
    "sns.countplot(y=data['dept'],hue=data['workAccident'])"
   ]
  },
  {
   "cell_type": "markdown",
   "id": "1cbcfaa7",
   "metadata": {},
   "source": [
    "Higher Workaccidnet related is in same department where salary are in medium and low range and attrition is high"
   ]
  },
  {
   "cell_type": "markdown",
   "id": "8420f981",
   "metadata": {},
   "source": [
    "# Conclusion"
   ]
  },
  {
   "cell_type": "markdown",
   "id": "c6367311",
   "metadata": {},
   "source": [
    "From these insights:-"
   ]
  },
  {
   "cell_type": "markdown",
   "id": "6faaabc1",
   "metadata": {},
   "source": [
    "Company should focus on salary range particularly in departments of Sales,technical and Support.\n",
    "WorkAccidents related problem should be dealt nicely .\n",
    "\n"
   ]
  },
  {
   "cell_type": "code",
   "execution_count": null,
   "id": "b888c4b9",
   "metadata": {},
   "outputs": [],
   "source": []
  }
 ],
 "metadata": {
  "kernelspec": {
   "display_name": "Python 3 (ipykernel)",
   "language": "python",
   "name": "python3"
  },
  "language_info": {
   "codemirror_mode": {
    "name": "ipython",
    "version": 3
   },
   "file_extension": ".py",
   "mimetype": "text/x-python",
   "name": "python",
   "nbconvert_exporter": "python",
   "pygments_lexer": "ipython3",
   "version": "3.9.12"
  }
 },
 "nbformat": 4,
 "nbformat_minor": 5
}
